{
 "cells": [
  {
   "cell_type": "code",
   "execution_count": 50,
   "id": "a2a9cf69",
   "metadata": {},
   "outputs": [],
   "source": [
    "\n",
    "\n",
    "\n",
    "def tryfunctio():\n",
    "    if age<18:\n",
    "        print(\"children\")\n",
    "        Age=\"children\"\n",
    "    elif age<35:\n",
    "        print(\"adult\")\n",
    "        Age=\"adult\"\n",
    "    elif age<45:\n",
    "        print(\"citizen\")\n",
    "        Age=\"citizen\"\n",
    "    else:\n",
    "        print(\"senior citizen\")\n",
    "        Age=\"senior citizen\"\n",
    "    return Age\n",
    "                "
   ]
  },
  {
   "cell_type": "code",
   "execution_count": 54,
   "id": "f254fb7e",
   "metadata": {},
   "outputs": [
    {
     "name": "stdout",
     "output_type": "stream",
     "text": [
      "Enter the Age:46\n",
      "senior citizen\n"
     ]
    }
   ],
   "source": [
    "age=int(input(\"Enter the Age:\"))\n",
    "Age3=tryfunctio() # just changing variable name multiple out put single fun like Age0,Age1...etc "
   ]
  },
  {
   "cell_type": "code",
   "execution_count": 56,
   "id": "d2be3385",
   "metadata": {},
   "outputs": [
    {
     "name": "stdout",
     "output_type": "stream",
     "text": [
      "children\n",
      "adult\n",
      "citizen\n",
      "senior citizen\n"
     ]
    }
   ],
   "source": [
    "print(Age0)\n",
    "print(Age1)\n",
    "print(Age2)\n",
    "print(Age3)\n",
    "\n"
   ]
  },
  {
   "cell_type": "code",
   "execution_count": null,
   "id": "e81194fd",
   "metadata": {},
   "outputs": [],
   "source": []
  }
 ],
 "metadata": {
  "kernelspec": {
   "display_name": "Python 3 (ipykernel)",
   "language": "python",
   "name": "python3"
  },
  "language_info": {
   "codemirror_mode": {
    "name": "ipython",
    "version": 3
   },
   "file_extension": ".py",
   "mimetype": "text/x-python",
   "name": "python",
   "nbconvert_exporter": "python",
   "pygments_lexer": "ipython3",
   "version": "3.9.12"
  }
 },
 "nbformat": 4,
 "nbformat_minor": 5
}
